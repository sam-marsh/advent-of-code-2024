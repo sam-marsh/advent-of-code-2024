{
 "cells": [
  {
   "cell_type": "code",
   "execution_count": 22,
   "metadata": {},
   "outputs": [
    {
     "data": {
      "text/plain": [
       "np.int64(3569916)"
      ]
     },
     "execution_count": 22,
     "metadata": {},
     "output_type": "execute_result"
    }
   ],
   "source": [
    "from csv import reader\n",
    "import numpy as np\n",
    "\n",
    "\n",
    "list1, list2 = [], []\n",
    "with open('inputs/day1.csv', newline='') as csvfile:\n",
    "    for row in reader(csvfile, delimiter=' '):\n",
    "        list1.append(int(row[0]))\n",
    "        list2.append(int(row[-1]))\n",
    "    \n",
    "list1.sort()\n",
    "list2.sort()\n",
    "np.sum(np.abs(np.array(list1) - np.array(list2)))"
   ]
  },
  {
   "cell_type": "code",
   "execution_count": 23,
   "metadata": {},
   "outputs": [
    {
     "data": {
      "text/plain": [
       "26407426"
      ]
     },
     "execution_count": 23,
     "metadata": {},
     "output_type": "execute_result"
    }
   ],
   "source": [
    "from collections import defaultdict\n",
    "\n",
    "\n",
    "def create_frequency_dict(l):\n",
    "    d = defaultdict(lambda: 0)\n",
    "    for item in l:\n",
    "        d[item] += 1\n",
    "    return d\n",
    "\n",
    "freq_dict = create_frequency_dict(list2)\n",
    "\n",
    "sum(\n",
    "    item * freq_dict[item]\n",
    "    for item in list1\n",
    ")"
   ]
  },
  {
   "cell_type": "code",
   "execution_count": null,
   "metadata": {},
   "outputs": [],
   "source": []
  }
 ],
 "metadata": {
  "kernelspec": {
   "display_name": "advent-of-code-2024-dczBW6aH-py3.12",
   "language": "python",
   "name": "python3"
  },
  "language_info": {
   "codemirror_mode": {
    "name": "ipython",
    "version": 3
   },
   "file_extension": ".py",
   "mimetype": "text/x-python",
   "name": "python",
   "nbconvert_exporter": "python",
   "pygments_lexer": "ipython3",
   "version": "3.12.5"
  }
 },
 "nbformat": 4,
 "nbformat_minor": 2
}
