{
 "cells": [
  {
   "cell_type": "code",
   "execution_count": null,
   "metadata": {},
   "outputs": [
    {
     "data": {
      "text/plain": [
       "413"
      ]
     },
     "execution_count": 32,
     "metadata": {},
     "output_type": "execute_result"
    }
   ],
   "source": [
    "from collections import defaultdict\n",
    "from functools import reduce\n",
    "from itertools import combinations\n",
    "\n",
    "\n",
    "with open('inputs/day8.txt') as input:\n",
    "    lines = [x.strip() for x in input.readlines()]\n",
    "\n",
    "n = len(lines)\n",
    "m = len(lines[0])\n",
    "\n",
    "antenna_map = defaultdict(lambda: set())\n",
    "for i in range(n):\n",
    "    for j in range(m):\n",
    "        if lines[i][j] != '.':\n",
    "            antenna_map[lines[i][j]].add((i, j))\n",
    "\n",
    "def in_grid(i, j):\n",
    "    return 0 <= i <= n - 1 and 0 <= j <= m - 1\n",
    "\n",
    "def antinodes(coord_list):\n",
    "    ans = set()\n",
    "    for c1, c2 in combinations(coord_list, r=2):\n",
    "        di = c2[0] - c1[0]\n",
    "        dj = c2[1] - c1[1]\n",
    "        ans.add((c1[0] - di, c1[1] - dj))\n",
    "        ans.add((c2[0] + di, c2[1] + dj))\n",
    "    return set((i, j) for (i, j) in ans if in_grid(i, j))\n",
    "\n",
    "antinode_map = {\n",
    "    k: antinodes(antenna_map[k])\n",
    "    for k in antenna_map\n",
    "}\n",
    "\n",
    "len(reduce(lambda a, b: a.union(b), antinode_map.values()))"
   ]
  },
  {
   "cell_type": "code",
   "execution_count": 33,
   "metadata": {},
   "outputs": [
    {
     "data": {
      "text/plain": [
       "1417"
      ]
     },
     "execution_count": 33,
     "metadata": {},
     "output_type": "execute_result"
    }
   ],
   "source": [
    "def antinodes(coord_list):\n",
    "    ans = set()\n",
    "    for c1, c2 in combinations(coord_list, r=2):\n",
    "        di = c2[0] - c1[0]\n",
    "        dj = c2[1] - c1[1]\n",
    "        curri, currj = c1[0], c1[1]\n",
    "        while in_grid(curri, currj):\n",
    "            ans.add((curri, currj))\n",
    "            curri += di\n",
    "            currj += dj\n",
    "        curri, currj = c1[0] - di, c1[1] - dj\n",
    "        while in_grid(curri, currj):\n",
    "            ans.add((curri, currj))\n",
    "            curri -= di\n",
    "            currj -= dj\n",
    "    return ans\n",
    "\n",
    "\n",
    "antinode_map = {\n",
    "    k: antinodes(antenna_map[k])\n",
    "    for k in antenna_map\n",
    "}\n",
    "\n",
    "len(reduce(lambda a, b: a.union(b), antinode_map.values()))"
   ]
  }
 ],
 "metadata": {
  "kernelspec": {
   "display_name": "advent-of-code-2024-dczBW6aH-py3.12",
   "language": "python",
   "name": "python3"
  },
  "language_info": {
   "codemirror_mode": {
    "name": "ipython",
    "version": 3
   },
   "file_extension": ".py",
   "mimetype": "text/x-python",
   "name": "python",
   "nbconvert_exporter": "python",
   "pygments_lexer": "ipython3",
   "version": "3.12.5"
  }
 },
 "nbformat": 4,
 "nbformat_minor": 2
}
