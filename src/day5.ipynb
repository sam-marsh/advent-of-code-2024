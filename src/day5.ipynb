{
 "cells": [
  {
   "cell_type": "code",
   "execution_count": 49,
   "metadata": {},
   "outputs": [
    {
     "data": {
      "text/plain": [
       "6384"
      ]
     },
     "execution_count": 49,
     "metadata": {},
     "output_type": "execute_result"
    }
   ],
   "source": [
    "import networkx as nx\n",
    "\n",
    "\n",
    "with open('inputs/day5.txt') as input:\n",
    "    data = input.readlines()\n",
    "\n",
    "# create DAG\n",
    "dependency_graph = nx.DiGraph()\n",
    "updates_index = -1\n",
    "for idx, line in enumerate(data):\n",
    "    if not line.strip():\n",
    "        updates_index = idx + 1\n",
    "        break\n",
    "    a, b = (int(x) for x in line.strip().split('|'))\n",
    "    dependency_graph.add_edge(a, b)\n",
    "\n",
    "def is_valid(update):\n",
    "    for i in range(len(update) - 1):\n",
    "        if (update[i], update[i + 1]) not in dependency_graph.edges():\n",
    "            return False\n",
    "    return True\n",
    "\n",
    "counter = 0\n",
    "for update_string in data[updates_index:]:\n",
    "    update = [int(x) for x in update_string.strip().split(',')]\n",
    "    if is_valid(update):\n",
    "        counter += update[len(update) // 2]\n",
    "\n",
    "counter"
   ]
  },
  {
   "cell_type": "code",
   "execution_count": 50,
   "metadata": {},
   "outputs": [
    {
     "data": {
      "text/plain": [
       "5353"
      ]
     },
     "execution_count": 50,
     "metadata": {},
     "output_type": "execute_result"
    }
   ],
   "source": [
    "counter = 0\n",
    "for update_string in data[updates_index:]:\n",
    "    update = [int(x) for x in update_string.strip().split(',')]\n",
    "    if not is_valid(update):\n",
    "        fixed = list(nx.topological_sort(nx.subgraph(dependency_graph, update)))\n",
    "        counter += fixed[len(fixed) // 2]\n",
    "\n",
    "counter"
   ]
  }
 ],
 "metadata": {
  "kernelspec": {
   "display_name": "advent-of-code-2024-dczBW6aH-py3.12",
   "language": "python",
   "name": "python3"
  },
  "language_info": {
   "codemirror_mode": {
    "name": "ipython",
    "version": 3
   },
   "file_extension": ".py",
   "mimetype": "text/x-python",
   "name": "python",
   "nbconvert_exporter": "python",
   "pygments_lexer": "ipython3",
   "version": "3.12.5"
  }
 },
 "nbformat": 4,
 "nbformat_minor": 2
}
