{
 "cells": [
  {
   "cell_type": "code",
   "execution_count": 32,
   "metadata": {},
   "outputs": [
    {
     "data": {
      "text/plain": [
       "1321"
      ]
     },
     "execution_count": 32,
     "metadata": {},
     "output_type": "execute_result"
    }
   ],
   "source": [
    "from collections import defaultdict\n",
    "import numpy as np\n",
    "\n",
    "\n",
    "with open('inputs/day20.txt') as input:\n",
    "    grid = np.array([list(x.strip()) for x in input.readlines()])\n",
    "    \n",
    "S = tuple(np.array(np.where(grid == 'S')).flatten().astype(int))\n",
    "E = tuple(np.array(np.where(grid == 'E')).flatten().astype(int))\n",
    "track = []\n",
    "curr = S\n",
    "while True:\n",
    "    track.append(curr)\n",
    "    if curr == E: break\n",
    "    for offset in [(0, 1), (1, 0), (-1, 0), (0, -1)]:\n",
    "        n = (curr[0] + offset[0], curr[1] + offset[1])\n",
    "        if n in track: continue\n",
    "        if grid[*n] in ('.', 'E'):\n",
    "            curr = n\n",
    "            break\n",
    "\n",
    "index_map = {\n",
    "    a: track.index(a)\n",
    "    for a in track\n",
    "}\n",
    "\n",
    "standard_time = len(track) - 1\n",
    "\n",
    "time_save_map = defaultdict(lambda: 0)\n",
    "\n",
    "for i, j in track:\n",
    "    for offset in [(0, 1), (1, 0), (-1, 0), (0, -1)]:\n",
    "        n = (i + 2 * offset[0], j + 2 * offset[1])\n",
    "        if n in index_map:\n",
    "            time_save = index_map[n] - index_map[(i, j)] - 2\n",
    "            if time_save > 0:\n",
    "                time_save_map[time_save] += 1\n",
    "\n",
    "sum(v for k, v in time_save_map.items() if k >= 100)"
   ]
  },
  {
   "cell_type": "code",
   "execution_count": 33,
   "metadata": {},
   "outputs": [
    {
     "data": {
      "text/plain": [
       "971737"
      ]
     },
     "execution_count": 33,
     "metadata": {},
     "output_type": "execute_result"
    }
   ],
   "source": [
    "from itertools import combinations\n",
    "\n",
    "\n",
    "def manhattan(a, b):\n",
    "    return abs(a[0] - b[0]) + abs(a[1] - b[1])\n",
    "\n",
    "time_save_map = defaultdict(lambda: 0)\n",
    "\n",
    "for a, b in combinations(range(len(track)), r=2):\n",
    "    i, j = track[a]\n",
    "    k, l = track[b]\n",
    "    dist = manhattan((i, j), (k, l))\n",
    "    if dist > 20: continue\n",
    "    time_save = index_map[(k, l)] - index_map[(i, j)] - dist\n",
    "    if time_save < 50: continue\n",
    "    time_save_map[time_save] += 1\n",
    "\n",
    "time_save_map\n",
    "\n",
    "sum(v for k, v in time_save_map.items() if k >= 100)"
   ]
  }
 ],
 "metadata": {
  "kernelspec": {
   "display_name": "advent-of-code-2024-dczBW6aH-py3.12",
   "language": "python",
   "name": "python3"
  },
  "language_info": {
   "codemirror_mode": {
    "name": "ipython",
    "version": 3
   },
   "file_extension": ".py",
   "mimetype": "text/x-python",
   "name": "python",
   "nbconvert_exporter": "python",
   "pygments_lexer": "ipython3",
   "version": "3.12.5"
  }
 },
 "nbformat": 4,
 "nbformat_minor": 2
}
