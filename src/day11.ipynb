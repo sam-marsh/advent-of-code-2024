{
 "cells": [
  {
   "cell_type": "code",
   "execution_count": 1,
   "metadata": {},
   "outputs": [
    {
     "data": {
      "text/plain": [
       "(30, 71441, 3784, 580926, 2, 8122942, 0, 291)"
      ]
     },
     "execution_count": 1,
     "metadata": {},
     "output_type": "execute_result"
    }
   ],
   "source": [
    "with open('inputs/day11.txt') as input:\n",
    "    input = tuple(int(x) for x in input.readline().strip().split(' '))\n",
    "\n",
    "input"
   ]
  },
  {
   "cell_type": "code",
   "execution_count": 2,
   "metadata": {},
   "outputs": [
    {
     "data": {
      "text/plain": [
       "191690"
      ]
     },
     "execution_count": 2,
     "metadata": {},
     "output_type": "execute_result"
    }
   ],
   "source": [
    "from functools import cache\n",
    "\n",
    "\n",
    "def split_number(num):\n",
    "    num_str = str(num)\n",
    "    half_len = len(num_str) // 2\n",
    "    return int(num_str[:half_len]), int(num_str[half_len:])\n",
    "\n",
    "@cache\n",
    "def num_stones_after(stone, k):\n",
    "    if k == 0:\n",
    "        return 1\n",
    "    if k == 1:\n",
    "        if stone == 0 or len(str(stone)) % 2 != 0:\n",
    "            return 1\n",
    "        return 2\n",
    "    if len(str(stone)) % 2 == 0:\n",
    "        return sum(num_stones_after(x, k - 1) for x in split_number(stone))\n",
    "    if stone == 0:\n",
    "        return num_stones_after(1, k - 1)\n",
    "    return num_stones_after(stone * 2024, k - 1)\n",
    "\n",
    "sum(num_stones_after(x, 25) for x in input)"
   ]
  },
  {
   "cell_type": "code",
   "execution_count": 3,
   "metadata": {},
   "outputs": [
    {
     "data": {
      "text/plain": [
       "228651922369703"
      ]
     },
     "execution_count": 3,
     "metadata": {},
     "output_type": "execute_result"
    }
   ],
   "source": [
    "sum(num_stones_after(x, 75) for x in input)"
   ]
  }
 ],
 "metadata": {
  "kernelspec": {
   "display_name": "advent-of-code-2024-dczBW6aH-py3.12",
   "language": "python",
   "name": "python3"
  },
  "language_info": {
   "codemirror_mode": {
    "name": "ipython",
    "version": 3
   },
   "file_extension": ".py",
   "mimetype": "text/x-python",
   "name": "python",
   "nbconvert_exporter": "python",
   "pygments_lexer": "ipython3",
   "version": "3.12.5"
  }
 },
 "nbformat": 4,
 "nbformat_minor": 2
}
