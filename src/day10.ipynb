{
 "cells": [
  {
   "cell_type": "code",
   "execution_count": 44,
   "metadata": {},
   "outputs": [],
   "source": [
    "with open('inputs/day10.txt') as input:\n",
    "    grid = [x.strip() for x in input.readlines()]"
   ]
  },
  {
   "cell_type": "code",
   "execution_count": null,
   "metadata": {},
   "outputs": [
    {
     "data": {
      "text/plain": [
       "789"
      ]
     },
     "execution_count": 42,
     "metadata": {},
     "output_type": "execute_result"
    }
   ],
   "source": [
    "import networkx as nx\n",
    "\n",
    "\n",
    "def in_grid(i, j):\n",
    "    return 0 <= i < len(grid) and 0 <= j < len(grid[0])\n",
    "\n",
    "graph = nx.DiGraph()\n",
    "for i in range(len(grid)):\n",
    "    for j in range(len(grid[0])):\n",
    "        for di, dj in ((0, 1), (0, -1), (1, 0), (-1, 0)):\n",
    "            if in_grid(i + di, j + dj) and int(grid[i + di][j + dj]) == int(grid[i][j]) + 1:\n",
    "                graph.add_edge((i, j), (i + di, j + dj))\n",
    "\n",
    "len(set((x[0], x[-1]) for x in nx.dag.root_to_leaf_paths(graph) if len(x) == 10))"
   ]
  },
  {
   "cell_type": "code",
   "execution_count": 43,
   "metadata": {},
   "outputs": [
    {
     "data": {
      "text/plain": [
       "1735"
      ]
     },
     "execution_count": 43,
     "metadata": {},
     "output_type": "execute_result"
    }
   ],
   "source": [
    "sum(1 for x in nx.dag.root_to_leaf_paths(graph) if len(x) == 10)"
   ]
  }
 ],
 "metadata": {
  "kernelspec": {
   "display_name": "advent-of-code-2024-dczBW6aH-py3.12",
   "language": "python",
   "name": "python3"
  },
  "language_info": {
   "codemirror_mode": {
    "name": "ipython",
    "version": 3
   },
   "file_extension": ".py",
   "mimetype": "text/x-python",
   "name": "python",
   "nbconvert_exporter": "python",
   "pygments_lexer": "ipython3",
   "version": "3.12.5"
  }
 },
 "nbformat": 4,
 "nbformat_minor": 2
}
