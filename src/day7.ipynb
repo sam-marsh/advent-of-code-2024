{
 "cells": [
  {
   "cell_type": "code",
   "execution_count": 18,
   "metadata": {},
   "outputs": [
    {
     "data": {
      "text/plain": [
       "1298103531759"
      ]
     },
     "execution_count": 18,
     "metadata": {},
     "output_type": "execute_result"
    }
   ],
   "source": [
    "with open('inputs/day7.txt') as input:\n",
    "    lines = input.readlines()\n",
    "\n",
    "equations = [\n",
    "    line.strip().split(':')\n",
    "    for line in lines\n",
    "]\n",
    "equations = [\n",
    "    (int(line[0].strip()), tuple(int(x.strip()) for x in line[1].strip().split(' ')))\n",
    "    for line in equations\n",
    "]\n",
    "\n",
    "def can_satisfy(target, numbers):\n",
    "    if target < 0:\n",
    "        return False\n",
    "    if len(numbers) == 0:\n",
    "        return target == 0\n",
    "    if target % numbers[-1] == 0:\n",
    "        if can_satisfy(target // numbers[-1], numbers[:-1]):\n",
    "            return True\n",
    "    if can_satisfy(target - numbers[-1], numbers[:-1]):\n",
    "        return True\n",
    "    return False\n",
    "\n",
    "sum(eq[0] for eq in equations if can_satisfy(eq[0], eq[1]))"
   ]
  },
  {
   "cell_type": "code",
   "execution_count": 19,
   "metadata": {},
   "outputs": [
    {
     "data": {
      "text/plain": [
       "140575048428831"
      ]
     },
     "execution_count": 19,
     "metadata": {},
     "output_type": "execute_result"
    }
   ],
   "source": [
    "def can_satisfy(target, numbers):\n",
    "    if target < 0:\n",
    "        return False\n",
    "    if len(numbers) == 0:\n",
    "        return target == 0\n",
    "    if target % numbers[-1] == 0:\n",
    "        if can_satisfy(target // numbers[-1], numbers[:-1]):\n",
    "            return True\n",
    "    if can_satisfy(target - numbers[-1], numbers[:-1]):\n",
    "        return True\n",
    "    if str(target).endswith(str(numbers[-1])):\n",
    "        unconcatenated = int(str(target)[:-len(str(numbers[-1]))])\n",
    "        if can_satisfy(unconcatenated, numbers[:-1]):\n",
    "            return True\n",
    "    return False\n",
    "\n",
    "sum(eq[0] for eq in equations if can_satisfy(eq[0], eq[1]))"
   ]
  }
 ],
 "metadata": {
  "kernelspec": {
   "display_name": "advent-of-code-2024-dczBW6aH-py3.12",
   "language": "python",
   "name": "python3"
  },
  "language_info": {
   "codemirror_mode": {
    "name": "ipython",
    "version": 3
   },
   "file_extension": ".py",
   "mimetype": "text/x-python",
   "name": "python",
   "nbconvert_exporter": "python",
   "pygments_lexer": "ipython3",
   "version": "3.12.5"
  }
 },
 "nbformat": 4,
 "nbformat_minor": 2
}
