{
 "cells": [
  {
   "cell_type": "code",
   "execution_count": 18,
   "metadata": {},
   "outputs": [
    {
     "data": {
      "text/plain": [
       "311"
      ]
     },
     "execution_count": 18,
     "metadata": {},
     "output_type": "execute_result"
    }
   ],
   "source": [
    "from functools import cache\n",
    "\n",
    "\n",
    "with open('inputs/day19.txt') as input:\n",
    "    lines = input.readlines()\n",
    "    available = frozenset(lines[0].strip().split(', '))\n",
    "    targets = list(x.strip() for x in lines[2:])\n",
    "\n",
    "@cache\n",
    "def can_make_target(target):\n",
    "    if target in available: return True\n",
    "    for option in available:\n",
    "        if target.startswith(option) and can_make_target(target[len(option):]):\n",
    "            return True\n",
    "    return False\n",
    "\n",
    "sum(1 if can_make_target(x) else 0 for x in targets)"
   ]
  },
  {
   "cell_type": "code",
   "execution_count": 19,
   "metadata": {},
   "outputs": [
    {
     "data": {
      "text/plain": [
       "616234236468263"
      ]
     },
     "execution_count": 19,
     "metadata": {},
     "output_type": "execute_result"
    }
   ],
   "source": [
    "@cache\n",
    "def count_ways(target):\n",
    "    c = 0\n",
    "    for option in available:\n",
    "        if option == target:\n",
    "            c += 1\n",
    "        elif target.startswith(option):\n",
    "            c += count_ways(target[len(option):])\n",
    "    return c\n",
    "\n",
    "sum(count_ways(x) for x in targets)"
   ]
  }
 ],
 "metadata": {
  "kernelspec": {
   "display_name": "advent-of-code-2024-dczBW6aH-py3.12",
   "language": "python",
   "name": "python3"
  },
  "language_info": {
   "codemirror_mode": {
    "name": "ipython",
    "version": 3
   },
   "file_extension": ".py",
   "mimetype": "text/x-python",
   "name": "python",
   "nbconvert_exporter": "python",
   "pygments_lexer": "ipython3",
   "version": "3.12.5"
  }
 },
 "nbformat": 4,
 "nbformat_minor": 2
}
