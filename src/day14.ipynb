{
 "cells": [
  {
   "cell_type": "code",
   "execution_count": 30,
   "metadata": {},
   "outputs": [
    {
     "data": {
      "text/plain": [
       "229632480"
      ]
     },
     "execution_count": 30,
     "metadata": {},
     "output_type": "execute_result"
    }
   ],
   "source": [
    "from collections import defaultdict\n",
    "import numpy as np\n",
    "\n",
    "\n",
    "with open('inputs/day14.txt') as input:\n",
    "    lines = input.readlines()\n",
    "\n",
    "n = 101\n",
    "m = 103\n",
    "\n",
    "positions = []\n",
    "velocities = []\n",
    "for line in lines:\n",
    "    first, second = line.split(' ')\n",
    "    positions.append(np.array(tuple(int(x) for x in first[2:].split(','))))\n",
    "    velocities.append(np.array(tuple(int(x) for x in second[2:].split(','))))\n",
    "\n",
    "\n",
    "def simulate(positions, time):\n",
    "    positions = positions[:]\n",
    "    for i in range(len(positions)):\n",
    "        positions[i] = np.mod(positions[i] + velocities[i] * time, (n, m))\n",
    "    return positions\n",
    "\n",
    "def print_grid(grid):\n",
    "    for j in range(m):\n",
    "        print(j, end=' ')\n",
    "        for i in range(n):\n",
    "            if grid[i, j] != 0:\n",
    "                print(grid[i, j], end='')\n",
    "            else:\n",
    "                print('.', end='')\n",
    "        print()\n",
    "\n",
    "def quadrant(position):\n",
    "    if position[0] < n // 2 and position[1] < m // 2:\n",
    "        return 0\n",
    "    if position[0] < n // 2 and position[1] > m // 2:\n",
    "        return 1\n",
    "    if position[0] > n // 2 and position[1] < m // 2:\n",
    "        return 2\n",
    "    if position[0] > n // 2 and position[1] > m // 2:\n",
    "        return 3\n",
    "    return -1\n",
    "\n",
    "def to_grid(positions):\n",
    "    grid = np.full((n, m), 0, dtype=int)\n",
    "    for position in positions:\n",
    "        grid[*position] += 1\n",
    "    return grid\n",
    "\n",
    "def safety_score(positions):\n",
    "    quadrant_map = defaultdict(lambda: 0)\n",
    "    for position in positions:\n",
    "        quadrant_map[quadrant(position)] += 1\n",
    "    return int(np.prod([count for id, count in quadrant_map.items() if id != -1]))\n",
    "\n",
    "safety_score(simulate(positions, 100))"
   ]
  },
  {
   "cell_type": "code",
   "execution_count": 52,
   "metadata": {},
   "outputs": [],
   "source": [
    "from contextlib import redirect_stdout\n",
    "\n",
    "def asymmetry_score(grid):\n",
    "    return np.sum(np.abs(grid - grid[::-1, :]))\n",
    "\n",
    "min_score = np.inf\n",
    "min_index = None\n",
    "\n",
    "with open('outputs/day14.txt', 'w') as f:\n",
    "    with redirect_stdout(f):\n",
    "        for i in range(10000):\n",
    "            curr = simulate(positions, i)\n",
    "            grid = to_grid(curr)\n",
    "            score = asymmetry_score(np.sign(grid))\n",
    "            if score < min_score:\n",
    "                min_score = score\n",
    "                min_index = i\n",
    "                print(i)\n",
    "                print_grid(grid)"
   ]
  }
 ],
 "metadata": {
  "kernelspec": {
   "display_name": ".venv",
   "language": "python",
   "name": "python3"
  },
  "language_info": {
   "codemirror_mode": {
    "name": "ipython",
    "version": 3
   },
   "file_extension": ".py",
   "mimetype": "text/x-python",
   "name": "python",
   "nbconvert_exporter": "python",
   "pygments_lexer": "ipython3",
   "version": "3.13.1"
  }
 },
 "nbformat": 4,
 "nbformat_minor": 2
}
