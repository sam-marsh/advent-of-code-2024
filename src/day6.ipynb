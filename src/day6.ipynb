{
 "cells": [
  {
   "cell_type": "code",
   "execution_count": 61,
   "metadata": {},
   "outputs": [
    {
     "data": {
      "text/plain": [
       "5101"
      ]
     },
     "execution_count": 61,
     "metadata": {},
     "output_type": "execute_result"
    }
   ],
   "source": [
    "with open('inputs/day6.txt') as input:\n",
    "    grid = [x.strip() for x in input.readlines()]\n",
    "\n",
    "\n",
    "n, m = len(grid), len(grid[0])\n",
    "obstacles = set()\n",
    "initial_pos = None\n",
    "direction = (-1, 0)\n",
    "\n",
    "for i in range(n):\n",
    "    for j in range(m):\n",
    "        if grid[i][j] == '#':\n",
    "            obstacles.add((i, j))\n",
    "        elif grid[i][j] == '^':\n",
    "            initial_pos = (i, j)\n",
    "\n",
    "pos = initial_pos\n",
    "path = []\n",
    "\n",
    "def rot90(direction):\n",
    "    if direction == (-1, 0):\n",
    "        return (0, 1)\n",
    "    if direction == (0, 1):\n",
    "        return (1, 0)\n",
    "    if direction == (1, 0):\n",
    "        return (0, -1)\n",
    "    if direction == (0, -1):\n",
    "        return (-1, 0)\n",
    "    raise AssertionError\n",
    "\n",
    "while 0 <= pos[0] <= n - 1 and 0 <= pos[1] <= m - 1:\n",
    "    path.append((pos, direction))\n",
    "    next_pos = (pos[0] + direction[0], pos[1] + direction[1])\n",
    "    if next_pos in obstacles:\n",
    "        direction = rot90(direction)\n",
    "        continue\n",
    "    pos = next_pos\n",
    "\n",
    "len(set(p[0] for p in path))"
   ]
  },
  {
   "cell_type": "code",
   "execution_count": null,
   "metadata": {},
   "outputs": [
    {
     "data": {
      "text/plain": [
       "1951"
      ]
     },
     "execution_count": 62,
     "metadata": {},
     "output_type": "execute_result"
    }
   ],
   "source": [
    "visited = set(x[0] for x in path)\n",
    "counter = 0\n",
    "# the lazy way, insert an obstacle at each point visited and resimulate - yuck\n",
    "for obstacle_pos in visited:\n",
    "    if obstacle_pos == initial_pos:\n",
    "        continue\n",
    "    obstacles.add(obstacle_pos)\n",
    "    pos = initial_pos\n",
    "    direction = (-1, 0)\n",
    "    path = set()\n",
    "    while 0 <= pos[0] <= n - 1 and 0 <= pos[1] <= m - 1:\n",
    "        if (pos, direction) in path:\n",
    "            counter += 1\n",
    "            break\n",
    "        path.add((pos, direction))\n",
    "        next_pos = (pos[0] + direction[0], pos[1] + direction[1])\n",
    "        if next_pos in obstacles:\n",
    "            direction = rot90(direction)\n",
    "            continue\n",
    "        pos = next_pos\n",
    "    obstacles.remove(obstacle_pos)\n",
    "counter"
   ]
  }
 ],
 "metadata": {
  "kernelspec": {
   "display_name": "advent-of-code-2024-dczBW6aH-py3.12",
   "language": "python",
   "name": "python3"
  },
  "language_info": {
   "codemirror_mode": {
    "name": "ipython",
    "version": 3
   },
   "file_extension": ".py",
   "mimetype": "text/x-python",
   "name": "python",
   "nbconvert_exporter": "python",
   "pygments_lexer": "ipython3",
   "version": "3.12.5"
  }
 },
 "nbformat": 4,
 "nbformat_minor": 2
}
