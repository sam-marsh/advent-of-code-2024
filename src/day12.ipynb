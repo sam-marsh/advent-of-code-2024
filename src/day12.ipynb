{
 "cells": [
  {
   "cell_type": "code",
   "execution_count": 32,
   "metadata": {},
   "outputs": [],
   "source": [
    "with open('inputs/day12.txt') as input:\n",
    "    grid = [list(x.strip()) for x in input.readlines()]\n",
    "\n",
    "n, m = len(grid), len(grid[0])"
   ]
  },
  {
   "cell_type": "code",
   "execution_count": 33,
   "metadata": {},
   "outputs": [
    {
     "data": {
      "text/plain": [
       "1450422"
      ]
     },
     "execution_count": 33,
     "metadata": {},
     "output_type": "execute_result"
    }
   ],
   "source": [
    "def in_grid(i, j):\n",
    "    return 0 <= i < n and 0 <= j < m\n",
    "\n",
    "def neighbours(i, j):\n",
    "    return [(i + di, j + dj) for di, dj in ((0, 1), (0, -1), (1, 0), (-1, 0)) if in_grid(i + di, j + dj)]\n",
    "\n",
    "def explore_region(i, j, c, v):\n",
    "    if grid[i][j] != c or (i, j) in v:\n",
    "        return set()\n",
    "    s = set([(i, j)])\n",
    "    v.add((i, j))\n",
    "    for k, l in neighbours(i, j):\n",
    "        s.update(explore_region(k, l, c, v))\n",
    "    return s\n",
    "\n",
    "regions = []\n",
    "\n",
    "def already_found_region(i, j):\n",
    "    return any((i, j) in s for s in regions)\n",
    "\n",
    "for i in range(n):\n",
    "    for j in range(m):\n",
    "        if not already_found_region(i, j):\n",
    "            regions.append(explore_region(i, j, grid[i][j], set()))\n",
    "\n",
    "def area(region):\n",
    "    return len(region)\n",
    "\n",
    "def perimeter(region):\n",
    "    p = 0\n",
    "    for i, j in region:\n",
    "        for di, dj in [(0, 1), (0, -1), (1, 0), (-1, 0)]:\n",
    "            k, l = i + di, j + dj\n",
    "            if in_grid(k, l):\n",
    "                if grid[i][j] != grid[k][l]:\n",
    "                    p += 1\n",
    "            else:\n",
    "                p += 1\n",
    "    return p\n",
    "\n",
    "sum(area(region) * perimeter(region) for region in regions)"
   ]
  },
  {
   "cell_type": "code",
   "execution_count": null,
   "metadata": {},
   "outputs": [
    {
     "data": {
      "text/plain": [
       "906606"
      ]
     },
     "execution_count": 34,
     "metadata": {},
     "output_type": "execute_result"
    }
   ],
   "source": [
    "def count_interior_corners(i, j):\n",
    "    # |\n",
    "    # | interior corner here\n",
    "    #  ------\n",
    "    corners = 0\n",
    "    n, e, s, w = (i - 1, j), (i, j + 1), (i + 1, j), (i, j - 1)\n",
    "    for (a, b), (c, d) in [(n, e), (e, s), (s, w), (w, n)]:\n",
    "        if (not in_grid(a, b) or grid[i][j] != grid[a][b]) \\\n",
    "              and (not in_grid(c, d) or grid[i][j] != grid[c][d]):\n",
    "            corners += 1\n",
    "    return corners\n",
    "\n",
    "def count_exterior_corners(i, j):\n",
    "    # \n",
    "    # exterior corner here\n",
    "    #                      -------\n",
    "    #                     |\n",
    "    #                     |\n",
    "    corners = 0\n",
    "    n, e, s, w = (-1, 0), (0, 1), (1, 0), (0, -1)\n",
    "    for (da, db), (dc, dd) in [(n, e), (e, s), (s, w), (w, n)]:\n",
    "        a, b = i + da, j + db\n",
    "        c, d = i + dc, j + dd\n",
    "        x, y = i + da + dc, j + db + dd\n",
    "        if not in_grid(a, b) or not in_grid(c, d) or not in_grid(x, y):\n",
    "            continue\n",
    "        if grid[i][j] == grid[a][b] and grid[i][j] == grid[c][d] and grid[i][j] != grid[x][y]:\n",
    "            corners += 1\n",
    "    return corners\n",
    "\n",
    "def count_sides(region):\n",
    "    # number of sides = number of corners\n",
    "    corners = 0\n",
    "    for i, j in region:\n",
    "        corners += count_exterior_corners(i, j) + count_interior_corners(i, j)\n",
    "    return corners\n",
    "\n",
    "sum(area(region) * count_sides(region) for region in regions)"
   ]
  }
 ],
 "metadata": {
  "kernelspec": {
   "display_name": "advent-of-code-2024-dczBW6aH-py3.12",
   "language": "python",
   "name": "python3"
  },
  "language_info": {
   "codemirror_mode": {
    "name": "ipython",
    "version": 3
   },
   "file_extension": ".py",
   "mimetype": "text/x-python",
   "name": "python",
   "nbconvert_exporter": "python",
   "pygments_lexer": "ipython3",
   "version": "3.12.5"
  }
 },
 "nbformat": 4,
 "nbformat_minor": 2
}
