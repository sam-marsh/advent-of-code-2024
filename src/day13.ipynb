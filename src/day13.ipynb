{
 "cells": [
  {
   "cell_type": "code",
   "execution_count": 1,
   "metadata": {},
   "outputs": [
    {
     "data": {
      "text/plain": [
       "36571"
      ]
     },
     "execution_count": 1,
     "metadata": {},
     "output_type": "execute_result"
    }
   ],
   "source": [
    "from functools import cache\n",
    "import re\n",
    "import numpy as np\n",
    "from sympy import solve, symbols\n",
    "\n",
    "\n",
    "with open('inputs/day13.txt') as input:\n",
    "    sections = ''.join(input.readlines()).split('\\n\\n')\n",
    "    machines = []\n",
    "    for section in sections:\n",
    "        xa, ya, xb, yb, xt, yt = (int(x) for x in re.findall(r'[0-9]+', section))\n",
    "        machines.append(((xa, ya), (xb, yb), (xt, yt)))\n",
    "\n",
    "@cache\n",
    "def old_cheapest(a, b, t):\n",
    "    if t[0] < 0 or t[1] < 0:\n",
    "        return np.inf\n",
    "    if t[0] == 0 and t[1] == 0:\n",
    "        return 0\n",
    "    return min(\n",
    "        1 + old_cheapest(a, b, (t[0] - b[0], t[1] - b[1])),\n",
    "        3 + old_cheapest(a, b, (t[0] - a[0], t[1] - a[1]))\n",
    "    )\n",
    "\n",
    "sum(old_cheapest(*machine) for machine in machines if np.isfinite(old_cheapest(*machine)))"
   ]
  },
  {
   "cell_type": "code",
   "execution_count": 2,
   "metadata": {},
   "outputs": [
    {
     "data": {
      "text/plain": [
       "85527711500010"
      ]
     },
     "execution_count": 2,
     "metadata": {},
     "output_type": "execute_result"
    }
   ],
   "source": [
    "# want n such that\n",
    "# t[0] - n*a[0] = k*b[0]\n",
    "# t[1] - n*a[1] = k*b[1]\n",
    "# for some integers (n, k)\n",
    "# solve using sympy lol\n",
    "\n",
    "def find_n_k(a, b, t):\n",
    "    n, k = symbols('n, k', integer=True)\n",
    "    result = solve(\n",
    "        (t[0] - a[0] * n - b[0] * k, t[1] - a[1] * n - b[1] * k),\n",
    "        n, k\n",
    "    )\n",
    "    if not result:\n",
    "        return np.inf, np.inf\n",
    "    return int(result[n]), int(result[k])\n",
    "\n",
    "def cost(n, k):\n",
    "    return n * 3 + k\n",
    "\n",
    "def cheapest(a, b, t):\n",
    "    # compare between performing a until on the line of b, and\n",
    "    # performing b until on the line of a\n",
    "    sol1 = find_n_k(a, b, t)\n",
    "    c1 = cost(sol1[0], sol1[1])\n",
    "    sol2 = find_n_k(b, a, t)\n",
    "    c2 = cost(sol2[1], sol2[0])\n",
    "    return min(c1, c2)\n",
    "\n",
    "val = 10000000000000\n",
    "def transform(a, b, t):\n",
    "    return a, b, (t[0] + val, t[1] + val)\n",
    "\n",
    "sum(cheapest(*transform(*machine)) for machine in machines if np.isfinite(cheapest(*transform(*machine))))"
   ]
  }
 ],
 "metadata": {
  "kernelspec": {
   "display_name": "advent-of-code-2024-dczBW6aH-py3.12",
   "language": "python",
   "name": "python3"
  },
  "language_info": {
   "codemirror_mode": {
    "name": "ipython",
    "version": 3
   },
   "file_extension": ".py",
   "mimetype": "text/x-python",
   "name": "python",
   "nbconvert_exporter": "python",
   "pygments_lexer": "ipython3",
   "version": "3.12.5"
  }
 },
 "nbformat": 4,
 "nbformat_minor": 2
}
