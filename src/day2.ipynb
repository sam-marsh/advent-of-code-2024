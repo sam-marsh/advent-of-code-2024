{
 "cells": [
  {
   "cell_type": "code",
   "execution_count": 14,
   "metadata": {},
   "outputs": [
    {
     "data": {
      "text/plain": [
       "680"
      ]
     },
     "execution_count": 14,
     "metadata": {},
     "output_type": "execute_result"
    }
   ],
   "source": [
    "from csv import reader\n",
    "\n",
    "reports = []\n",
    "with open('inputs/day2.csv', newline='') as csvfile:\n",
    "    for row in reader(csvfile, delimiter=' '):\n",
    "        reports.append([int(x) for x in row])\n",
    "\n",
    "safe_count = 0\n",
    "for report in reports:\n",
    "    if report[1] < report[0]:\n",
    "        report = report[::-1]\n",
    "    safe = True\n",
    "    for a, b in zip(report, report[1:]):\n",
    "        if not (1 <= b - a <= 3):\n",
    "            safe = False\n",
    "            break\n",
    "    if safe:\n",
    "        safe_count += 1\n",
    "safe_count"
   ]
  },
  {
   "cell_type": "code",
   "execution_count": 16,
   "metadata": {},
   "outputs": [
    {
     "data": {
      "text/plain": [
       "710"
      ]
     },
     "execution_count": 16,
     "metadata": {},
     "output_type": "execute_result"
    }
   ],
   "source": [
    "def violation_index(report):\n",
    "    for idx, (a, b) in enumerate(zip(report, report[1:])):\n",
    "        if not (1 <= b - a <= 3):\n",
    "            return idx\n",
    "    return -1\n",
    "\n",
    "def is_safe_with_dampener(report):\n",
    "    # report should be in ascending order\n",
    "    idx = violation_index(report)\n",
    "    if idx == -1:\n",
    "        return True\n",
    "    mod1, mod2 = report[:], report[:]\n",
    "    del mod1[idx]\n",
    "    del mod2[idx + 1]\n",
    "    return violation_index(mod1) == -1 or violation_index(mod2) == -1\n",
    "    \n",
    "\n",
    "safe_count = 0\n",
    "for report in reports:\n",
    "    if is_safe_with_dampener(report) or is_safe_with_dampener(report[::-1]):\n",
    "        safe_count += 1\n",
    "safe_count"
   ]
  },
  {
   "cell_type": "code",
   "execution_count": null,
   "metadata": {},
   "outputs": [],
   "source": []
  }
 ],
 "metadata": {
  "kernelspec": {
   "display_name": "advent-of-code-2024-dczBW6aH-py3.12",
   "language": "python",
   "name": "python3"
  },
  "language_info": {
   "codemirror_mode": {
    "name": "ipython",
    "version": 3
   },
   "file_extension": ".py",
   "mimetype": "text/x-python",
   "name": "python",
   "nbconvert_exporter": "python",
   "pygments_lexer": "ipython3",
   "version": "3.12.5"
  }
 },
 "nbformat": 4,
 "nbformat_minor": 2
}
