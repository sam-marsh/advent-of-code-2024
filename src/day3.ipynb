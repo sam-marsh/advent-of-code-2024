{
 "cells": [
  {
   "cell_type": "code",
   "execution_count": 32,
   "metadata": {},
   "outputs": [
    {
     "data": {
      "text/plain": [
       "188116424"
      ]
     },
     "execution_count": 32,
     "metadata": {},
     "output_type": "execute_result"
    }
   ],
   "source": [
    "import re\n",
    "\n",
    "with open('inputs/day3.txt') as input:\n",
    "    memory = ''.join(input.readlines())\n",
    "\n",
    "sum(\n",
    "    int(match.group(1)) * int(match.group(2))\n",
    "    for match in re.finditer(r'mul\\(([0-9]*),([0-9]*)\\)', memory)\n",
    ")"
   ]
  },
  {
   "cell_type": "code",
   "execution_count": 33,
   "metadata": {},
   "outputs": [
    {
     "data": {
      "text/plain": [
       "104245808"
      ]
     },
     "execution_count": 33,
     "metadata": {},
     "output_type": "execute_result"
    }
   ],
   "source": [
    "parts = memory.split(\"don't()\")\n",
    "# first part is enabled, and also everything after the first do() in each part\n",
    "enabled_memory = parts[0] + ''.join(''.join(part.split(\"do()\")[1:]) for part in parts[1:])\n",
    "\n",
    "sum(\n",
    "    int(match.group(1)) * int(match.group(2))\n",
    "    for match in re.finditer(r'mul\\(([0-9]*),([0-9]*)\\)', enabled_memory)\n",
    ")"
   ]
  }
 ],
 "metadata": {
  "kernelspec": {
   "display_name": "advent-of-code-2024-dczBW6aH-py3.12",
   "language": "python",
   "name": "python3"
  },
  "language_info": {
   "codemirror_mode": {
    "name": "ipython",
    "version": 3
   },
   "file_extension": ".py",
   "mimetype": "text/x-python",
   "name": "python",
   "nbconvert_exporter": "python",
   "pygments_lexer": "ipython3",
   "version": "3.12.5"
  }
 },
 "nbformat": 4,
 "nbformat_minor": 2
}
