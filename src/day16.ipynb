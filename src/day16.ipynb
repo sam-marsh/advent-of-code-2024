{
 "cells": [
  {
   "cell_type": "code",
   "execution_count": 24,
   "metadata": {},
   "outputs": [
    {
     "data": {
      "text/plain": [
       "127520"
      ]
     },
     "execution_count": 24,
     "metadata": {},
     "output_type": "execute_result"
    }
   ],
   "source": [
    "import numpy as np\n",
    "import networkx as nx\n",
    "\n",
    "\n",
    "with open('inputs/day16.txt') as input:\n",
    "    grid = np.array([list(x.strip()) for x in input.readlines()])\n",
    "\n",
    "walkables = ('S', 'E', '.')\n",
    "graph = nx.DiGraph()\n",
    "for i in range(len(grid)):\n",
    "    for j in range(len(grid[i])):\n",
    "        if grid[i, j] in walkables:\n",
    "            dirs = ['N', 'E', 'S', 'W', 'N']\n",
    "            for d1, d2 in zip(dirs, dirs[1:]):\n",
    "                graph.add_edge((i, j, d1), (i, j, d2), weight=1000)\n",
    "                graph.add_edge((i, j, d2), (i, j, d1), weight=1000)\n",
    "            if grid[i - 1, j] in walkables:\n",
    "                graph.add_edge((i, j, 'N'), (i - 1, j, 'N'), weight=1)\n",
    "            if grid[i + 1, j] in walkables:\n",
    "                graph.add_edge((i, j, 'S'), (i + 1, j, 'S'), weight=1)\n",
    "            if grid[i, j - 1] in walkables:\n",
    "                graph.add_edge((i, j, 'W'), (i, j - 1, 'W'), weight=1)\n",
    "            if grid[i, j + 1] in walkables:\n",
    "                graph.add_edge((i, j, 'E'), (i, j + 1, 'E'), weight=1)\n",
    "\n",
    "start = (int(np.where(grid == 'S')[0][0]), int(np.where(grid == 'S')[1][0]))\n",
    "end = (int(np.where(grid == 'E')[0][0]), int(np.where(grid == 'E')[1][0]))\n",
    "\n",
    "sp_length = min(nx.shortest_path_length(\n",
    "    graph, (*start, 'E'), (*end, d), weight='weight'\n",
    ") for d in ['N', 'E', 'S', 'W'])\n",
    "sp_length"
   ]
  },
  {
   "cell_type": "code",
   "execution_count": 25,
   "metadata": {},
   "outputs": [
    {
     "data": {
      "text/plain": [
       "565"
      ]
     },
     "execution_count": 25,
     "metadata": {},
     "output_type": "execute_result"
    }
   ],
   "source": [
    "uniques = set()\n",
    "for d in ['N', 'E', 'S', 'W']:\n",
    "    if nx.shortest_path_length(\n",
    "        graph, (*start, 'E'), (*end, d), weight='weight'\n",
    "    ) != sp_length:\n",
    "        continue\n",
    "    for path in nx.all_shortest_paths(\n",
    "        graph, (*start, 'E'), (*end, d), weight='weight'\n",
    "    ):\n",
    "        for i, j, _ in path:\n",
    "            uniques.add((i, j))\n",
    "len(uniques)"
   ]
  }
 ],
 "metadata": {
  "kernelspec": {
   "display_name": ".venv",
   "language": "python",
   "name": "python3"
  },
  "language_info": {
   "codemirror_mode": {
    "name": "ipython",
    "version": 3
   },
   "file_extension": ".py",
   "mimetype": "text/x-python",
   "name": "python",
   "nbconvert_exporter": "python",
   "pygments_lexer": "ipython3",
   "version": "3.13.1"
  }
 },
 "nbformat": 4,
 "nbformat_minor": 2
}
