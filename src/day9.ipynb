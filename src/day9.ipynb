{
 "cells": [
  {
   "cell_type": "code",
   "execution_count": 1,
   "metadata": {},
   "outputs": [],
   "source": [
    "with open('inputs/day9.txt') as input:\n",
    "    disk_map_str = input.readlines()[0]\n",
    "\n",
    "id = 0\n",
    "lengths = [int(x) for x in disk_map_str[::2]]\n",
    "spaces = [int(x) for x in disk_map_str[1::2] + '0']\n",
    "counter = 0\n",
    "\n",
    "# two different structures for part 1 and part 2\n",
    "disk = []\n",
    "compressed = []\n",
    "\n",
    "for length, space in zip(lengths, spaces):        \n",
    "    for i in range(counter, counter + length):\n",
    "        disk.append(id)\n",
    "    for i in range(space):\n",
    "        disk.append(-1)\n",
    "    compressed.append((id, length))\n",
    "    compressed.append((-1, space))\n",
    "    id += 1\n",
    "    counter += space + length"
   ]
  },
  {
   "cell_type": "code",
   "execution_count": 2,
   "metadata": {},
   "outputs": [
    {
     "data": {
      "text/plain": [
       "6330095022244"
      ]
     },
     "execution_count": 2,
     "metadata": {},
     "output_type": "execute_result"
    }
   ],
   "source": [
    "def rearrange(disk):\n",
    "    disk = disk[:]\n",
    "    left, right = 0, len(disk) - 1\n",
    "    while left < right:\n",
    "        if disk[left] != -1:\n",
    "            left += 1\n",
    "            continue\n",
    "        if disk[right] == -1:\n",
    "            right -= 1\n",
    "            continue\n",
    "        disk[left], disk[right] = disk[right], disk[left]\n",
    "    return disk\n",
    "\n",
    "def checksum(disk):\n",
    "    return sum(i * val for i, val in enumerate(disk) if val != -1)\n",
    "\n",
    "checksum(rearrange(disk))"
   ]
  },
  {
   "cell_type": "code",
   "execution_count": 3,
   "metadata": {},
   "outputs": [
    {
     "data": {
      "text/plain": [
       "6359491814941"
      ]
     },
     "execution_count": 3,
     "metadata": {},
     "output_type": "execute_result"
    }
   ],
   "source": [
    "def rearrange(compressed):\n",
    "    compressed = compressed[:]\n",
    "    for r in reversed(range(len(compressed))):\n",
    "        if compressed[r][0] == -1: continue\n",
    "        for l in range(r):\n",
    "            if compressed[l][0] != -1: continue\n",
    "            if compressed[r][1] <= compressed[l][1]:\n",
    "                # found a gap - l is free space, r is the file\n",
    "                # subtract from free space by length of file\n",
    "                compressed[l] = (compressed[l][0], compressed[l][1] - compressed[r][1])\n",
    "                # insert file before free space\n",
    "                compressed.insert(l, compressed[r])\n",
    "                # turn previous location of file into free space\n",
    "                compressed[r + 1] = (-1, compressed[r + 1][1])\n",
    "                break\n",
    "    return compressed\n",
    "\n",
    "def checksum(compressed):\n",
    "    cs = 0\n",
    "    idx = 0\n",
    "    for id, length in compressed:\n",
    "        for _ in range(length):\n",
    "            if id != -1:\n",
    "                cs += idx * id\n",
    "            idx += 1\n",
    "    return cs\n",
    "            \n",
    "checksum(rearrange(compressed))"
   ]
  }
 ],
 "metadata": {
  "kernelspec": {
   "display_name": "advent-of-code-2024-dczBW6aH-py3.12",
   "language": "python",
   "name": "python3"
  },
  "language_info": {
   "codemirror_mode": {
    "name": "ipython",
    "version": 3
   },
   "file_extension": ".py",
   "mimetype": "text/x-python",
   "name": "python",
   "nbconvert_exporter": "python",
   "pygments_lexer": "ipython3",
   "version": "3.12.5"
  }
 },
 "nbformat": 4,
 "nbformat_minor": 2
}
