{
 "cells": [
  {
   "cell_type": "code",
   "execution_count": 13,
   "metadata": {},
   "outputs": [
    {
     "data": {
      "text/plain": [
       "2547"
      ]
     },
     "execution_count": 13,
     "metadata": {},
     "output_type": "execute_result"
    }
   ],
   "source": [
    "from typing import Tuple\n",
    "\n",
    "\n",
    "with open('inputs/day4.txt') as input:\n",
    "    grid = [x.strip() for x in input.readlines()]\n",
    "\n",
    "\n",
    "def has_string(target: str, pos: Tuple[int, int], direction: Tuple[int, int]) -> bool:\n",
    "    x, y = pos\n",
    "    if len(target) == 0:\n",
    "        return True\n",
    "    if x < 0 or y < 0 or x >= len(grid) or y >= len(grid[0]):\n",
    "        return False\n",
    "    return grid[x][y] == target[0] and has_string(target[1:], (pos[0] + direction[0], pos[1] + direction[1]), direction)\n",
    "\n",
    "counter = 0\n",
    "for x in range(len(grid)):\n",
    "    for y in range(len(grid[0])):\n",
    "        for dir in [(0, 1), (0, -1), (1, 0), (-1, 0), (1, 1), (-1, -1), (1, -1), (-1, 1)]:\n",
    "            if has_string('XMAS', (x, y), dir):\n",
    "                counter += 1\n",
    "\n",
    "counter"
   ]
  },
  {
   "cell_type": "code",
   "execution_count": 15,
   "metadata": {},
   "outputs": [
    {
     "data": {
      "text/plain": [
       "1939"
      ]
     },
     "execution_count": 15,
     "metadata": {},
     "output_type": "execute_result"
    }
   ],
   "source": [
    "counter = 0\n",
    "for x in range(1, len(grid) - 1):\n",
    "    for y in range(1, len(grid[0]) - 1):\n",
    "        if grid[x][y] == 'A':\n",
    "            nw, ne, sw, se = grid[x - 1][y - 1], grid[x - 1][y + 1], grid[x + 1][y - 1], grid[x + 1][y + 1]\n",
    "            if sorted((nw, se)) == ['M', 'S'] and sorted((ne, sw)) == ['M', 'S']:\n",
    "                counter += 1\n",
    "counter"
   ]
  }
 ],
 "metadata": {
  "kernelspec": {
   "display_name": "advent-of-code-2024-dczBW6aH-py3.12",
   "language": "python",
   "name": "python3"
  },
  "language_info": {
   "codemirror_mode": {
    "name": "ipython",
    "version": 3
   },
   "file_extension": ".py",
   "mimetype": "text/x-python",
   "name": "python",
   "nbconvert_exporter": "python",
   "pygments_lexer": "ipython3",
   "version": "3.12.5"
  }
 },
 "nbformat": 4,
 "nbformat_minor": 2
}
