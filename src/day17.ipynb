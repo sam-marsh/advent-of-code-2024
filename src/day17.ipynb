{
 "cells": [
  {
   "cell_type": "code",
   "execution_count": 1,
   "metadata": {},
   "outputs": [
    {
     "data": {
      "text/plain": [
       "([47719761, 0, 0], [2, 4, 1, 5, 7, 5, 0, 3, 4, 1, 1, 6, 5, 5, 3, 0])"
      ]
     },
     "execution_count": 1,
     "metadata": {},
     "output_type": "execute_result"
    }
   ],
   "source": [
    "registers = []\n",
    "\n",
    "with open('inputs/day17.txt') as input:\n",
    "    for line in input.readlines():\n",
    "        if line.startswith('Register'):\n",
    "            registers.append(int(line.strip().split(': ')[1]))\n",
    "        elif line.startswith('Program'):\n",
    "            program = [int(x) for x in line.strip().split(': ')[1].split(',')]\n",
    "\n",
    "registers, program"
   ]
  },
  {
   "cell_type": "code",
   "execution_count": 2,
   "metadata": {},
   "outputs": [
    {
     "name": "stdout",
     "output_type": "stream",
     "text": [
      "7,0,3,1,2,6,3,7,1\n"
     ]
    }
   ],
   "source": [
    "def get_combo_operand(registers, ope):\n",
    "    match ope:\n",
    "        case 0 | 1 | 2 | 3:\n",
    "            return ope\n",
    "        case 4 | 5 | 6:\n",
    "            return registers[ope - 4]\n",
    "    raise AssertionError()\n",
    "\n",
    "def run(program, registers):\n",
    "    program = program[:]\n",
    "    registers = registers[:]\n",
    "    ins_ptr = 0\n",
    "    output = []\n",
    "    while ins_ptr < len(program):\n",
    "        ins = program[ins_ptr]\n",
    "        literal = program[ins_ptr + 1]\n",
    "        combo = get_combo_operand(registers, program[ins_ptr + 1])\n",
    "        match ins:\n",
    "            case 0:\n",
    "                # adv\n",
    "                num = registers[0]\n",
    "                den = 2**combo\n",
    "                registers[0] = num // den\n",
    "            case 1:\n",
    "                # bxl\n",
    "                registers[1] ^= literal\n",
    "            case 2:\n",
    "                # bst\n",
    "                registers[1] = combo % 8\n",
    "            case 3:\n",
    "                # jnz\n",
    "                if registers[0]:\n",
    "                    ins_ptr = literal - 2\n",
    "            case 4:\n",
    "                # bxc\n",
    "                registers[1] ^= registers[2]\n",
    "            case 5:\n",
    "                # out\n",
    "                output.append(combo % 8)\n",
    "            case 6:\n",
    "                # bdv\n",
    "                num = registers[0]\n",
    "                den = 2**combo\n",
    "                registers[1] = num // den\n",
    "            case 7:\n",
    "                # cdv\n",
    "                num = registers[0]\n",
    "                den = 2**combo\n",
    "                registers[2] = num // den\n",
    "        ins_ptr += 2\n",
    "    return output\n",
    "\n",
    "\n",
    "print(','.join(str(x) for x in run(program, registers)))"
   ]
  },
  {
   "cell_type": "code",
   "execution_count": 3,
   "metadata": {},
   "outputs": [
    {
     "name": "stdout",
     "output_type": "stream",
     "text": [
      "[2, 4, 1, 5, 7, 5, 0, 3, 4, 1, 1, 6, 5, 5, 3, 0]\n"
     ]
    }
   ],
   "source": [
    "print(program)"
   ]
  },
  {
   "cell_type": "code",
   "execution_count": 4,
   "metadata": {},
   "outputs": [
    {
     "name": "stdout",
     "output_type": "stream",
     "text": [
      "0: B = A % 8\n",
      "1: B ^= 5\n",
      "2: C = A // 2**B\n",
      "3: A //= 2**3\n",
      "4: B ^= C\n",
      "5: B ^= 6\n",
      "6: print(B % 8)\n",
      "7: if A != 0: jump 0\n"
     ]
    }
   ],
   "source": [
    "def combo_string(arg):\n",
    "    match arg:\n",
    "        case 0 | 1 | 2 | 3: return str(arg)\n",
    "        case 4: return 'A'\n",
    "        case 5: return 'B'\n",
    "        case 6: return 'C'\n",
    "    \n",
    "def print_program(program):\n",
    "    for idx, (insn, arg) in enumerate(zip(program[::2], program[1::2])):\n",
    "        print(idx, end=': ')\n",
    "        match insn:\n",
    "            case 0:\n",
    "                print(f'A //= 2**{combo_string(arg)}')\n",
    "            case 1:\n",
    "                print(f'B ^= {arg}')\n",
    "            case 2:\n",
    "                print(f'B = {combo_string(arg)} % 8')\n",
    "            case 3:\n",
    "                print(f'if A != 0: jump {arg//2}')\n",
    "            case 4:\n",
    "                print(f'B ^= C')\n",
    "            case 5:\n",
    "                print(f'print({combo_string(arg)} % 8)')\n",
    "            case 6:\n",
    "                print(f'B = A // 2**{combo_string(arg)}')\n",
    "            case 7:\n",
    "                print(f'C = A // 2**{combo_string(arg)}')\n",
    "\n",
    "print_program(program)"
   ]
  },
  {
   "cell_type": "markdown",
   "metadata": {},
   "source": [
    "Simplifying/converting to Python:\n",
    "```python\n",
    "while True:\n",
    "    B = (A % 8) ^ 5\n",
    "    C = A // 2**B\n",
    "    A //= 8\n",
    "    B ^= C ^ 6\n",
    "    print(B % 8)\n",
    "    if A == 0: break\n",
    "```\n",
    "Simplifying further:\n",
    "```python\n",
    "while True:\n",
    "    print(((A % 8) ^ 3 ^ (A // 2**((A % 8) ^ 5))) % 8)\n",
    "    A //= 8\n",
    "    if A == 0: break\n",
    "```\n",
    "This gives a set of 16 equations,\n",
    "$$ (((A >> 3k) \\mod 8) \\oplus 3 \\oplus ((A >> 3k) >> ((A >> 3k) \\mod 8) \\oplus 5)) \\mod 8 = r_k $$\n",
    "for $k = 0, \\ldots, 15$, and $r_k = \\texttt{program[k]}$.\n",
    "\n",
    "Unclear how to solve this directly because of the variable bit-shift operation so resort to search."
   ]
  },
  {
   "cell_type": "code",
   "execution_count": 5,
   "metadata": {},
   "outputs": [
    {
     "data": {
      "text/plain": [
       "109020013201563"
      ]
     },
     "execution_count": 5,
     "metadata": {},
     "output_type": "execute_result"
    }
   ],
   "source": [
    "# A will have up to 48 bits so that it outputs 16 numbers, plus we need 8 more zero bits to account for the bit-shift operation\n",
    "bits = [None] * 56\n",
    "smallest_A = None\n",
    "\n",
    "def get_triple(base):\n",
    "    vals = bits[base:base+3]\n",
    "    if any(b is None for b in vals): return None\n",
    "    return int(''.join(str(x) for x in vals[::-1]), base=2)\n",
    "\n",
    "def set_triple(base, val):\n",
    "    for i in range(3):\n",
    "        bval = (val >> i) & 1\n",
    "        if bits[base + i] is not None and bits[base + i] != bval:\n",
    "            # already set to something different\n",
    "            return False\n",
    "    for i in range(3):\n",
    "        if bits[base + i] is None:\n",
    "            bits[base + i] = (val >> i) & 1\n",
    "    return True\n",
    "\n",
    "def unset_triple(base, old):\n",
    "    for i in range(3):\n",
    "        bits[base+i] = old[i]\n",
    "\n",
    "\n",
    "def build_A():\n",
    "    A = 0\n",
    "    for i, b in enumerate(bits):\n",
    "        bval = 0 if b is None else b\n",
    "        A |= (bval << i)\n",
    "    return A\n",
    "\n",
    "\n",
    "def search(k):\n",
    "    \"\"\"\n",
    "    The idea: have 16 constraints, one for each k.\n",
    "    48 bits of A - 15 triples.\n",
    "    If triple tk unknown, try values 0...7.\n",
    "    Once chosen, compute tk ^ 5.\n",
    "    offset = 3*k+sk\n",
    "    uk = program[k]^tk^3\n",
    "    Then enfore constraint (A >> offset) & 7 = uk\n",
    "    If this conflicts, backtrack.\n",
    "    \"\"\"\n",
    "    global smallest_A\n",
    "    if k == 16:\n",
    "        res = build_A()\n",
    "        if smallest_A is None or res < smallest_A:\n",
    "            smallest_A = res\n",
    "        return\n",
    "    tk = 3*k\n",
    "    tkval = get_triple(tk)\n",
    "    if tkval is not None:\n",
    "        # triple is known\n",
    "        sk = tkval ^ 5\n",
    "        offset = 3*k + sk\n",
    "        assert offset+2 < len(bits)\n",
    "        uk = program[k] ^ tkval ^ 3\n",
    "        current = get_triple(offset)\n",
    "        if current is None:\n",
    "            oldu = bits[offset:offset+3]\n",
    "            if set_triple(offset, uk):\n",
    "                search(k + 1)\n",
    "            unset_triple(offset, oldu)\n",
    "        else:\n",
    "            if current == uk:\n",
    "                search(k+1)\n",
    "    else:\n",
    "        # triple is unknown: try all 8 possible values\n",
    "        old = bits[tk:tk+3]\n",
    "        for val in range(8):\n",
    "            if not set_triple(tk, val):\n",
    "                unset_triple(tk, old)\n",
    "                continue\n",
    "            sk = val ^ 5\n",
    "            offset = 3*k + sk\n",
    "            assert offset+2 < len(bits)\n",
    "            uk = program[k] ^ val ^ 3\n",
    "            oldu = bits[offset:offset+3]\n",
    "            currentu = get_triple(offset)\n",
    "            if currentu is None:\n",
    "                if set_triple(offset, uk):\n",
    "                    search(k+1)\n",
    "                unset_triple(offset, oldu)\n",
    "            else:\n",
    "                if currentu == uk:\n",
    "                    search(k+1)\n",
    "            unset_triple(tk, old)\n",
    "\n",
    "search(0)\n",
    "smallest_A"
   ]
  }
 ],
 "metadata": {
  "kernelspec": {
   "display_name": "advent-of-code-2024-dczBW6aH-py3.12",
   "language": "python",
   "name": "python3"
  },
  "language_info": {
   "codemirror_mode": {
    "name": "ipython",
    "version": 3
   },
   "file_extension": ".py",
   "mimetype": "text/x-python",
   "name": "python",
   "nbconvert_exporter": "python",
   "pygments_lexer": "ipython3",
   "version": "3.12.5"
  }
 },
 "nbformat": 4,
 "nbformat_minor": 2
}
